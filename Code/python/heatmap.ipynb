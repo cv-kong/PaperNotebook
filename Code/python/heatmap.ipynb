{
 "cells": [
  {
   "cell_type": "code",
   "execution_count": 4,
   "id": "512d29c3",
   "metadata": {},
   "outputs": [
    {
     "data": {
      "text/plain": [
       "True"
      ]
     },
     "execution_count": 4,
     "metadata": {},
     "output_type": "execute_result"
    }
   ],
   "source": [
    "import cv2\n",
    "dir_img = '../../Papers/ImageFusion/images/'\n",
    "# 读取灰度图\n",
    "gray = cv2.imread(dir_img + 'gray_val.jpg', cv2.IMREAD_GRAYSCALE)\n",
    "\n",
    "# 转为热力图（伪彩色）\n",
    "heatmap = cv2.applyColorMap(gray, cv2.COLORMAP_JET)\n",
    "cv2.imwrite(dir_img + 'heatmap_val.png', heatmap)\n",
    "\n",
    "# 读取灰度图\n",
    "gray_ir = cv2.imread(dir_img + 'ir_original.jpg', cv2.IMREAD_GRAYSCALE)\n",
    "# 转为热力图（伪彩色）\n",
    "heatmap_ir = cv2.applyColorMap(gray_ir, cv2.COLORMAP_JET)\n",
    "cv2.imwrite(dir_img + 'heatmap_ir.png', heatmap_ir)"
   ]
  }
 ],
 "metadata": {
  "kernelspec": {
   "display_name": "base",
   "language": "python",
   "name": "python3"
  },
  "language_info": {
   "codemirror_mode": {
    "name": "ipython",
    "version": 3
   },
   "file_extension": ".py",
   "mimetype": "text/x-python",
   "name": "python",
   "nbconvert_exporter": "python",
   "pygments_lexer": "ipython3",
   "version": "3.9.13"
  }
 },
 "nbformat": 4,
 "nbformat_minor": 5
}
