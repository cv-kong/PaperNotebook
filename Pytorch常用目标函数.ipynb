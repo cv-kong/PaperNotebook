{
 "cells": [
  {
   "cell_type": "markdown",
   "metadata": {},
   "source": [
    "# Cross entropy loss function"
   ]
  },
  {
   "cell_type": "code",
   "execution_count": 8,
   "metadata": {},
   "outputs": [
    {
     "name": "stdout",
     "output_type": "stream",
     "text": [
      "tensor(0.7307)\n",
      "tensor(-2.0748)\n"
     ]
    }
   ],
   "source": [
    "import torch\n",
    "import torch.nn as nn\n",
    "import torch.nn.functional as F\n",
    "\n",
    "batch_size = 2\n",
    "num_classes = 4\n",
    "\n",
    "logits = torch.randn(batch_size, num_classes)\n",
    "target = torch.randint(num_classes, size = (batch_size,))\n",
    "\n",
    "target_logits = torch.randn(batch_size, num_classes)\n",
    "\n",
    "\n",
    "# Cross entropy loss function\n",
    "loss_fn = nn.CrossEntropyLoss()\n",
    "loss = loss_fn(logits, target)\n",
    "print(loss)\n",
    "\n",
    "\n",
    "## method 2 for CE loss\n",
    "ce_loss = loss_fn(target_logits, target_logits)\n",
    "print(ce_loss)  "
   ]
  },
  {
   "cell_type": "markdown",
   "metadata": {},
   "source": [
    "# Negative log likelihood loss function\n",
    "## 负对数似然 （NLL）== CE"
   ]
  },
  {
   "cell_type": "code",
   "execution_count": 9,
   "metadata": {},
   "outputs": [
    {
     "name": "stdout",
     "output_type": "stream",
     "text": [
      "tensor(1.4619)\n"
     ]
    }
   ],
   "source": [
    "nll_fn = torch.nn.NLLLoss()\n",
    "nll_loss = nll_fn(F.log_softmax(target_logits, dim=1), target)\n",
    "print(nll_loss)"
   ]
  },
  {
   "cell_type": "markdown",
   "metadata": {},
   "source": [
    "# KL divergence loss function"
   ]
  },
  {
   "cell_type": "code",
   "execution_count": null,
   "metadata": {},
   "outputs": [],
   "source": []
  }
 ],
 "metadata": {
  "kernelspec": {
   "display_name": "yolov8-py3.9",
   "language": "python",
   "name": "python3"
  },
  "language_info": {
   "codemirror_mode": {
    "name": "ipython",
    "version": 3
   },
   "file_extension": ".py",
   "mimetype": "text/x-python",
   "name": "python",
   "nbconvert_exporter": "python",
   "pygments_lexer": "ipython3",
   "version": "3.9.13"
  }
 },
 "nbformat": 4,
 "nbformat_minor": 2
}
